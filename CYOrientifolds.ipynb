{
 "cells": [
  {
   "cell_type": "markdown",
   "id": "272f4829-912f-4c93-8389-79a4d561887b",
   "metadata": {},
   "source": [
    "# CQSV Database for Calabi-Yau Reflection Orientifolds\n",
    "\n",
    "This notebook provides instructions on how to read the data provided in our GitHub repository for Calabi-Yau (CY) orientifolds. More details on the type of data can be found in our paper which is available on the ArXiv: [https://arxiv.org/abs/2204.13115](https://arxiv.org/abs/2204.13115).\n",
    "\n",
    "Author: Andreas Schachner\n",
    "\n",
    "E-Mail: andreas.schachner@gmx.net\n"
   ]
  },
  {
   "cell_type": "markdown",
   "id": "82a50604-dda9-4aa4-a24c-c2adfc043fbd",
   "metadata": {},
   "source": [
    "## Packages\n",
    "\n",
    "We first load a few packages that are necessary to read the data and reproduce some of the figures in the paper:"
   ]
  },
  {
   "cell_type": "code",
   "execution_count": 1,
   "id": "716bfabc-d8d0-460d-b05e-73471c54f3b2",
   "metadata": {},
   "outputs": [],
   "source": [
    "import numpy as np\n",
    "import os\n",
    "import sys\n",
    "import glob\n",
    "import pandas as pd\n",
    "import pickle\n",
    "import gzip\n",
    "import seaborn as sn\n",
    "import matplotlib.pyplot as plt\n",
    "from tqdm import tqdm\n",
    "\n",
    "sn.set(rc={\"figure.dpi\":200, 'savefig.dpi':200})\n",
    "sn.set_context('notebook')\n",
    "sn.set_style(\"ticks\")\n",
    "plt.rcParams[\"font.family\"] = \"Times New Roman\"\n",
    "cmap=sn.color_palette(\"viridis\", as_cmap=True)\n",
    "sn.set_theme()\n",
    "\n",
    "home_dir=os.getcwd()\n",
    "        \n",
    "def load_zipped_pickle(filen):\n",
    "    \n",
    "    with gzip.open(filen, 'rb') as f:\n",
    "        loaded_object = pickle.load(f)\n",
    "        \n",
    "    f.close()\n",
    "        \n",
    "    return loaded_object\n",
    "\n",
    "\n",
    "def mergeDict(dict1, dict2):\n",
    "    \n",
    "    dict3 = {**dict1, **dict2}\n",
    "    for key, value in dict3.items():\n",
    "        if key in dict1 and key in dict2:\n",
    "            if np.issubdtype(type(dict1[key]), np.integer)==True:\n",
    "                dict3[key] = [dict1[key],value]\n",
    "            else:\n",
    "                dict1[key].append(value)\n",
    "                dict3[key] = dict1[key]\n",
    "                \n",
    "            \n",
    "    return dict3\n"
   ]
  },
  {
   "cell_type": "markdown",
   "id": "9f92c33c-6624-4b18-af16-4f5188aea525",
   "metadata": {},
   "source": [
    "We provide all of the relevant CY data in a readily usable format. Depending on the application, it might however be necessary to work out additional data from the polytope and triangulation data. In this case, it is recommended to install the lastest version of [CYTools](https://cytools.liammcallistergroup.com) and to load the following packages afterwards:"
   ]
  },
  {
   "cell_type": "code",
   "execution_count": 2,
   "id": "740e40f8-0b13-4447-a60a-5c8233be3880",
   "metadata": {},
   "outputs": [
    {
     "name": "stdout",
     "output_type": "stream",
     "text": [
      "\n",
      "Info: A more recent version of CYTools is available: v0.5.0 -> v0.6.0.\n",
      "We recommend upgrading before continuing.\n",
      "\n"
     ]
    }
   ],
   "source": [
    "import cytools\n",
    "from cytools import Polytope"
   ]
  },
  {
   "cell_type": "markdown",
   "id": "40fa13f2-95ff-4101-85e1-d91950762c5b",
   "metadata": {},
   "source": [
    "Alternatively, the data can also be handled with [Sage](https://www.sagemath.org)."
   ]
  },
  {
   "cell_type": "markdown",
   "id": "8aa244fa-2487-4539-933f-c66048ea40c0",
   "metadata": {},
   "source": [
    "# Read orientifold data for a single polytope at given $h^{1,1}$\n",
    "\n",
    "To read the data, we pick a value for $h^{1,1}$ and choose the type of data (see paper for more details):\n",
    "\n",
    "* ```Complete```: Contains complete data for *all* fine, regular, star triangulations (FRSTs) of *all* favourable reflexive 4D polytopes at $2\\leq h^{1,1}\\leq 7$ listed in the [KS database](http://hep.itp.tuwien.ac.at/~kreuzer/CY/).\n",
    "* ```Random```: Contains data obtained from random sampling FRSTs using the ```random_triangulations_fair``` function as implemented in [CYTools](https://cytools.liammcallistergroup.com/docs/documentation/polytope#random_triangulations_fair). We randomly selected favourable reflexive 4D polytopes at $7\\leq h^{1,1}\\leq 12$ with all possible values for $h^{1,2}$ as listed in the [KS database](http://hep.itp.tuwien.ac.at/~kreuzer/CY/).\n",
    "\n",
    "Below, we work with the ```Complete``` data by setting ```random_data=0```:"
   ]
  },
  {
   "cell_type": "code",
   "execution_count": 3,
   "id": "63b1f128-70d0-4226-ab97-559e604d1aaf",
   "metadata": {},
   "outputs": [],
   "source": [
    "h11=2\n",
    "random_data=0"
   ]
  },
  {
   "cell_type": "markdown",
   "id": "aa5c8995-8e4c-47ff-873f-dcd37372efa9",
   "metadata": {},
   "source": [
    "Next, we can find all the datafiles in the corresponding folder by using ```\n",
    "glob.glob(files)\n",
    "```:"
   ]
  },
  {
   "cell_type": "code",
   "execution_count": 4,
   "id": "5f367942-02f4-43ad-b74f-1c8ff4ee21ac",
   "metadata": {},
   "outputs": [
    {
     "data": {
      "text/plain": [
       "['/home/cytools/mounted_volume/Software/CYTools_Projects/CY_Orientifold_database/Data/Complete/h11_2/POLY_10_h11_2_h12_86.p',\n",
       " '/home/cytools/mounted_volume/Software/CYTools_Projects/CY_Orientifold_database/Data/Complete/h11_2/POLY_11_h11_2_h12_86.p',\n",
       " '/home/cytools/mounted_volume/Software/CYTools_Projects/CY_Orientifold_database/Data/Complete/h11_2/POLY_12_h11_2_h12_86.p',\n",
       " '/home/cytools/mounted_volume/Software/CYTools_Projects/CY_Orientifold_database/Data/Complete/h11_2/POLY_13_h11_2_h12_86.p',\n",
       " '/home/cytools/mounted_volume/Software/CYTools_Projects/CY_Orientifold_database/Data/Complete/h11_2/POLY_14_h11_2_h12_86.p']"
      ]
     },
     "execution_count": 4,
     "metadata": {},
     "output_type": "execute_result"
    }
   ],
   "source": [
    "file_ID=\"POLY_*\"\n",
    "\n",
    "if random_data==0:\n",
    "    files = home_dir+\"/Data/Complete/h11_\"+str(h11)+\"/\"+file_ID+\".p\"\n",
    "else:\n",
    "    files = home_dir+\"/Data/Random/h11_\"+str(h11)+\"/\"+file_ID+\".p\"      \n",
    "            \n",
    "filenames = glob.glob(files)\n",
    "filenames[:5]"
   ]
  },
  {
   "cell_type": "markdown",
   "id": "6624300b-e0a6-41ef-9c48-45ece4048624",
   "metadata": {},
   "source": [
    "The list ```filenames``` contains all filenames for polytopes with a given h11. For convenience, we further limit ourselves to polytopes with a specified $h^{1,2}$:"
   ]
  },
  {
   "cell_type": "code",
   "execution_count": 5,
   "id": "be804448-10d0-43c9-80ff-ea7dc3455f6f",
   "metadata": {},
   "outputs": [
    {
     "data": {
      "text/plain": [
       "['/home/cytools/mounted_volume/Software/CYTools_Projects/CY_Orientifold_database/Data/Complete/h11_2/POLY_36_h11_2_h12_272.p']"
      ]
     },
     "execution_count": 5,
     "metadata": {},
     "output_type": "execute_result"
    }
   ],
   "source": [
    "h12=272\n",
    "filenames=[file for file in filenames if \"h12_\"+str(h12) in file]\n",
    "filenames"
   ]
  },
  {
   "cell_type": "markdown",
   "id": "792812b0-dda9-48d0-9354-53ae8068f93c",
   "metadata": {},
   "source": [
    "We picked $h^{1,2}=272$ which corresponds to the degree 18 hypersurface in $\\mathbb{CP}[1,1,1,6,9]$ as discussed in Appendix B in the paper. This leaves us with one filename which we now read in using the function ```load_zipped_pickle```:"
   ]
  },
  {
   "cell_type": "code",
   "execution_count": 6,
   "id": "165c7728-a084-4fb3-8aa6-3ed182204278",
   "metadata": {},
   "outputs": [
    {
     "data": {
      "text/plain": [
       "dict"
      ]
     },
     "execution_count": 6,
     "metadata": {},
     "output_type": "execute_result"
    }
   ],
   "source": [
    "if len(filenames)>0:\n",
    "    filename=filenames[0]\n",
    "else:\n",
    "    print(\"No filename found!\")\n",
    "    sys.exit()\n",
    "    \n",
    "ptr=load_zipped_pickle(filename)\n",
    "\n",
    "type(ptr)"
   ]
  },
  {
   "cell_type": "markdown",
   "id": "20bc3de8-228a-43f1-a50b-d42363d015cc",
   "metadata": {},
   "source": [
    "We loaded the file into a dictionary ```ptr``` which has the following keys:"
   ]
  },
  {
   "cell_type": "code",
   "execution_count": 7,
   "id": "199bab03-b4d5-418f-bd11-86063daa295f",
   "metadata": {},
   "outputs": [
    {
     "data": {
      "text/plain": [
       "dict_keys(['POLYID', 'KSID', 'h11', 'h12', 'chi', 'PPOINTS', 'WEIGHTS', 'FIBRE', 'SIMPS', 'SRI', 'INTNUMS', 'SCHERN', 'DIVS', 'DPEZ', 'OFOLDS', 'STAT'])"
      ]
     },
     "execution_count": 7,
     "metadata": {},
     "output_type": "execute_result"
    }
   ],
   "source": [
    "ptr.keys()"
   ]
  },
  {
   "cell_type": "markdown",
   "id": "dc2d1cfe-dd65-4dd5-8fbf-38e2def10d02",
   "metadata": {},
   "source": [
    "The keys provide access to the following data:\n",
    "    \n",
    "| Key | Quantity | Type | Length |\n",
    "| --- | --- | --- | --- |\n",
    "| **'POLYID'** | Polytope ID | scalar | 0 |\n",
    "| **'KSID'** | Polytope ID | scalar | 0 |\n",
    "| **'h11'** | $h^{1,1}(X_3)$ of the corresponding CY $X_3$ | scalar | 0 |\n",
    "| **'h12'** | $h^{1,2}(X_3)$ of the corresponding CY $X_3$ | scalar | 0 |\n",
    "| **'chi'** | $\\chi(X_3)$ of the corresponding CY $X_3$ | scalar | 0 |\n",
    "| **'PPOINTS'** | $N$ lattice points | array | h11+4 |\n",
    "| **'WEIGHTS'** | GLSM weight matrix | array | h11+4 |\n",
    "| **'FIBRE'** | Fiberation structre of the polytope | array | - |\n",
    "| **'SIMPS'** | Simplices of all FRSTs | array | #FRSTs |\n",
    "| **'SRI'** | SR-ideal for all FRSTs | array | #FRSTs |\n",
    "| **'INTNUMS'** | Intersection numbers for all FRSTs | array | #FRSTs |\n",
    "| **'SCHERN'** | 2nd Chern class for all FRSTs | array | #FRSTs |\n",
    "| **'DIVS'** | Topological numbers of divisors for all FRSTs | array | #FRSTs |\n",
    "| **'DPEZ'** | (Diagonal) del Pezzo divisors for all FRSTs | array | #FRSTs |\n",
    "| **'OFOLDS'** | Orientifolds for all FRSTs | array | #FRSTs |\n",
    "| **'STAT'** | Statistic for the polytope | dictionary | - |\n",
    "    "
   ]
  },
  {
   "cell_type": "markdown",
   "id": "27815a43-918d-4a4a-91ba-f5e18a2729ce",
   "metadata": {},
   "source": [
    "The polytope ID is counted in the order of the original KS database. Non-favourable polytopes (which are currently NOT included in our database) are counted within ```KSID```. It corresponds to *'Polytope #'* in the CY database of Altmann et al. http://www.rossealtman.com/toriccy/.\n",
    "\n",
    "The triangulation dependent arrays have length of the number of FRSTs. These are the simplices used for each FRST as well as the 2nd Chern class, SR ideal, triple intersection numbers, divisor topologies, del Pezzo divisors, and orientifolds.\n",
    "\n",
    "The intersection numbers include the anti-canonical divisor at index 0.\n",
    "\n",
    "For each polytope, ```STAT``` provides the statistic of orientifold models for all triangulations in form of another ```dictionary```. For the above, we find"
   ]
  },
  {
   "cell_type": "code",
   "execution_count": 8,
   "id": "209db7c3-be15-40e0-8106-6c40290eaf0e",
   "metadata": {},
   "outputs": [
    {
     "data": {
      "text/plain": [
       "{'#INV': 4, '#SINV': 1, '#NSINV': 3, '#CO3s': 1, '#OO7s': 2}"
      ]
     },
     "execution_count": 8,
     "metadata": {},
     "output_type": "execute_result"
    }
   ],
   "source": [
    "ptr['STAT']"
   ]
  },
  {
   "cell_type": "markdown",
   "id": "70d0fcbb-2484-499c-a061-45eea0fbc2f4",
   "metadata": {},
   "source": [
    "Here, the different ```keys``` have the following interpretation:\n",
    "\n",
    "| Key | Quantity | Type | Length |\n",
    "| --- | --- | --- | --- |\n",
    "| **'#INV'** | Number of involutions | scalar | 0 |\n",
    "| **'#SINV'** | Number of singular involutions | scalar | 0 |\n",
    "| **'#NSINV'** | Number of non-singular involutions | scalar | 0 |\n",
    "| **'#CO3s'** | Number of orientifolds with coinciding O3-planes | scalar | 0 |\n",
    "| **'#OO7s'** | Number of orientifolds with only O7-planes | scalar | 0 |"
   ]
  },
  {
   "cell_type": "markdown",
   "id": "2afa3e2a-108f-4465-92c0-534d0ec000e1",
   "metadata": {},
   "source": [
    "In the following, we look at the data of ```Orientifolds``` and ```Divisors``` where we need to specify a triangulation. Here, there is only one triangulation obtained via ```T=0```:"
   ]
  },
  {
   "cell_type": "code",
   "execution_count": 9,
   "id": "aa6a0cd4-9ef7-415f-9758-7f032e7d27db",
   "metadata": {},
   "outputs": [],
   "source": [
    "T=0\n",
    "Orientifolds=ptr[\"OFOLDS\"][T]\n",
    "Divisors=ptr[\"DIVS\"][T]"
   ]
  },
  {
   "cell_type": "markdown",
   "id": "1062f60f-f581-45c6-8fdf-2c7e1b7aa1b5",
   "metadata": {},
   "source": [
    "### The divisor data\n",
    "\n",
    "Let us first look at the divisor data. The topological numbers read"
   ]
  },
  {
   "cell_type": "code",
   "execution_count": 10,
   "id": "bbca4e04-c8c6-41f0-8212-857a76db4b3b",
   "metadata": {},
   "outputs": [
    {
     "data": {
      "text/plain": [
       "array([[1, list([1, 0, 2, 30]), 36, 144.0, 3.0],\n",
       "       [2, list([1, 0, 2, 30]), 36, 144.0, 3.0],\n",
       "       [3, list([1, 0, 2, 30]), 36, 144.0, 3.0],\n",
       "       [4, list([1, 0, 28, 218]), 276, 5424.0, 29.0],\n",
       "       [5, list([1, 0, 65, 417]), 549, 16776.0, 66.0],\n",
       "       [6, list([1, 0, 0, 1]), 3, 552.0, 1.0]], dtype=object)"
      ]
     },
     "execution_count": 10,
     "metadata": {},
     "output_type": "execute_result"
    }
   ],
   "source": [
    "Divisors"
   ]
  },
  {
   "cell_type": "markdown",
   "id": "2b6aaf90-d230-4241-861f-134a4b35114d",
   "metadata": {},
   "source": [
    "There are 5 columns which encode the following quantities\n",
    "\n",
    "| Column | Quantity | Type | Length |\n",
    "| --- | --- | --- | --- |\n",
    "| 1 | Divisor/coordinate index $i$ for $D_i=\\lbrace z_i=0\\rbrace$ | scalar | 0 |\n",
    "| 2 | Hodge numbers $h^{p,q}(D_i)$ in the format $[h^{0,0},h^{0,1}, h^{0,2},h^{1,1}]$ | list | 4 |\n",
    "| 3 | Euler number $\\chi(D_i)$ | scalar | 0 |\n",
    "| 4 | Euler number $\\chi(4D_i)$ | scalar | 0 |\n",
    "| 5 | Arithmetic genus $\\chi_0(D_i)$ | scalar | 0 |"
   ]
  },
  {
   "cell_type": "markdown",
   "id": "c0d87b5a-815f-4d64-9005-157041466f0f",
   "metadata": {},
   "source": [
    "As an example, let us take look at the divisor $D_6$"
   ]
  },
  {
   "cell_type": "code",
   "execution_count": 11,
   "id": "e1719037-8614-4b80-b1c4-b25b18dd1a93",
   "metadata": {},
   "outputs": [
    {
     "data": {
      "text/plain": [
       "array([6, list([1, 0, 0, 1]), 3, 552.0, 1.0], dtype=object)"
      ]
     },
     "execution_count": 11,
     "metadata": {},
     "output_type": "execute_result"
    }
   ],
   "source": [
    "D=5\n",
    "D6=Divisors[D]\n",
    "D6"
   ]
  },
  {
   "cell_type": "markdown",
   "id": "b6b81890-c9c7-498e-88a0-e35ab4ccdc17",
   "metadata": {},
   "source": [
    "This divisors has the following properties: \n",
    "\n",
    "* It corresponds to a dP$_0=\\mathbb{P}^2$ surface with Hodge numbers\n",
    "\n",
    "$$h^{\\bullet}(D_6) =\\lbrace h^{0,0},h^{0,1}, h^{0,2},h^{1,1}\\rbrace= \\lbrace 1,0,0,1\\rbrace$$\n",
    "\n",
    "* The Euler number of $D_6$ is given by\n",
    "\n",
    "$$\\chi(D_6)=3$$\n",
    "\n",
    "* The Euler number for the class $4\\cdot D_6$ is\n",
    "\n",
    "$$\\chi(4\\cdot D_6)=552$$\n",
    "\n",
    "* Lastly, the arithmetic genus is determined as\n",
    "\n",
    "$$\\chi_0(D_6)=1$$\n",
    "\n",
    "\n",
    "We can check whether it is a proper del Pezzo surface dP$_0$ inside the CY and whether it satisfies the diagonality condition by looking at ```DPEZ``` inside ```ptr```.\n",
    "\n",
    "This additional array of del Pezzo divisors does not use the information about Hodge numbers. Indeed, in some cases, a divisor might look topologically like a del Pezzo, but there are actually obstructions related to the precise embedding into the CY which can e.g. be seen on the level of intersection numbers. In the list of del Pezzo divisors, we check the necessary conditions in terms of the intersection structures stated in our paper, namely for a del Pezzo $dP_n$ divisor $D_s$:\n",
    "\n",
    "$$\\int_{X_3}\\, D_s^3=\\kappa_{sss}=9-n>0\\qquad \\int_{X_3}\\, D_s^2 D_i\\leq 0\\quad \\forall i\\neq s$$\n",
    "\n",
    "Furthermore, we check the diagonality condition\n",
    "\n",
    "$$\\kappa_{sss}\\kappa_{sij}=\\kappa_{ssi}\\kappa_{ssj}\\quad \\forall i,j$$\n",
    "\n",
    "which is usually required either for applications to the LVS or models with branes at singularities. The array of divisors $D_{s_i}$ of del Pezzo type dP$_{n_i}$ associated with the key ```DPEZ``` in structured as:\n",
    "\n",
    "```ptr['DPEZ']}=[[s_1, n_1,d_1],[s_2, n_2,d_2],... ]```\n",
    "\n",
    "Here, $d_i=1$ means that the divisor is diagonal, and $d_i=0$ that it is non-diagonal. In our example from above, we find"
   ]
  },
  {
   "cell_type": "code",
   "execution_count": 12,
   "id": "2f7ac883-dceb-4aaf-a8a9-e8252cb2697a",
   "metadata": {},
   "outputs": [
    {
     "data": {
      "text/plain": [
       "array([[6, 0, 1]])"
      ]
     },
     "execution_count": 12,
     "metadata": {},
     "output_type": "execute_result"
    }
   ],
   "source": [
    "ptr[\"DPEZ\"][T]"
   ]
  },
  {
   "cell_type": "markdown",
   "id": "85836359-9b58-4b22-8c1a-9a5af0103370",
   "metadata": {},
   "source": [
    "We see that $D_6$ is a proper dP$_0$ and is diagonal. The latter is of course trivial for a dP$_0=\\mathbb{P}^2$ because it always appears diagonally, but this serves here as a sanity check!\n",
    "\n",
    "### The orientifold data\n",
    "\n",
    "In the object ```Orientifold``` we collect the number of inequivalent orientifolds (at least regarding the weight system). The orientifold data for one such configuration ```O=1``` is encoded in another dictionary with the following keys:"
   ]
  },
  {
   "cell_type": "code",
   "execution_count": 13,
   "id": "1abcb653-2f19-4063-8211-92aff4857ed4",
   "metadata": {},
   "outputs": [
    {
     "data": {
      "text/plain": [
       "dict_keys(['OIDP', 'OIDTR', 'COORD', 'SING', 'cO3', 'oO7', 'CYEQ', 'OPC', 'OP', 'D3OP', 'D3SO8', 'D3W', 'H12PM'])"
      ]
     },
     "execution_count": 13,
     "metadata": {},
     "output_type": "execute_result"
    }
   ],
   "source": [
    "O=1\n",
    "Orientifold=Orientifolds[O]\n",
    "Orientifold.keys()"
   ]
  },
  {
   "cell_type": "markdown",
   "id": "d2deb07b-e0fb-4894-b130-dd7336f7c168",
   "metadata": {},
   "source": [
    "Here, the keys specify the folloing data\n",
    "\n",
    "| Key | Quantity | Type | Length |\n",
    "| --- | --- | --- | --- |\n",
    "| **'OIDP'** | Orientifold ID polytope | scalar | 0 |\n",
    "| **'OIDTR'** | Orientifold ID triangulation | scalar | 0 |\n",
    "| **'COORD'** | Equivalent coordinates for reflection | list | - |\n",
    "| **'SING'** | Singular if 1 | scalar | 0 |\n",
    "| **'cO3'** | Contains coinciding O3-planes | scalar | 0 |\n",
    "| **'oO7'** | Contains only O7-planes | scalar | 0 |\n",
    "| **'CYEQ'** | Invariant CY equation | array | - |\n",
    "| **'OPC'** | Count of fixed point loci | list | 6 |\n",
    "| **'OP'** | O$p_i$-planes $[[p_1,\\sharp \\,\\text{planes},[z_k,z_l,\\ldots]],\\ldots]$ for fixed point loci $z_k=z_l=\\ldots=0$ | array | -- |\n",
    "| **'D3OP'** | D3-charge contribution from O$p$-planes $[Q_{O3},Q_{O7},Q_{O3}+Q_{O7}]$ | list | 3 |\n",
    "| **'D3SO8'** | Total D3-charge for SO(8) stacks | scalar | 0 |\n",
    "| **'D3W'** | Total D3-charge for Whitney branes | list | 2 |\n",
    "| **'H12PM'** | Hodge numbers $[h^{1,2}_{+},h^{1,2}_{-}]$ | list | 2 |"
   ]
  },
  {
   "cell_type": "markdown",
   "id": "8093ae17-60fb-4a32-9796-2affa9d8f18a",
   "metadata": {},
   "source": [
    "We stress that we only check some necessary conditions for singularities. That is, even if ```'SING'``` is set to ```0```, it could still be singular."
   ]
  },
  {
   "cell_type": "markdown",
   "id": "aeb46548-2dde-48fb-8ba8-6fda50d9a5a1",
   "metadata": {},
   "source": [
    "For the example above, we obtain for instance the O$p$-plane configuration:"
   ]
  },
  {
   "cell_type": "code",
   "execution_count": 21,
   "id": "070b6220-e771-4256-94d0-772091e4b83e",
   "metadata": {},
   "outputs": [
    {
     "data": {
      "text/plain": [
       "array([[7, 1, array([1])],\n",
       "       [3, 3, array([2, 3, 5])],\n",
       "       [3, 1, array([2, 3, 6])]], dtype=object)"
      ]
     },
     "execution_count": 21,
     "metadata": {},
     "output_type": "execute_result"
    }
   ],
   "source": [
    "Orientifold[\"OP\"]"
   ]
  },
  {
   "cell_type": "markdown",
   "id": "ba85b57b-c091-4414-b415-c3c7845d1550",
   "metadata": {},
   "source": [
    "This implies that we have:\n",
    "\n",
    "* an O7-plane on $D_1$\n",
    "* an O3-plane wrapping the locus $z_2=z_3=z_6=0$\n",
    "* three O3-planes wrapping the locus $z_2=z_3=z_5=0$\n",
    "\n",
    "Regarding D7-brane configurations including Whitney brane setups, we provide a list using the key ```'D3W'``` of the form ```[[#1,#2],#3]``` where\n",
    "\n",
    "* #1: list of indices on which SO(8) stacks wrap the corresponding divisors\n",
    "* #2: list of indices on which Whitney branes wrap the associated divisors\n",
    "* #3' total D3-charge of the configuration\n",
    "\n",
    "In the above example, we have:"
   ]
  },
  {
   "cell_type": "code",
   "execution_count": 14,
   "id": "4cfe313b-669a-4981-b96c-c374a1496481",
   "metadata": {},
   "outputs": [
    {
     "data": {
      "text/plain": [
       "[[], [0], -20.0]"
      ]
     },
     "execution_count": 14,
     "metadata": {},
     "output_type": "execute_result"
    }
   ],
   "source": [
    "Orientifold[\"D3W\"]"
   ]
  },
  {
   "cell_type": "markdown",
   "id": "cb9a73ef-f804-407a-a90b-61ee8ccf038b",
   "metadata": {},
   "source": [
    "That is, we have no SO(8) stacks and one Whitney brane on the divisor $D_1$ with a total D3-charge $-20$."
   ]
  },
  {
   "cell_type": "markdown",
   "id": "483146d2-2423-44c0-8abd-ab3e4e1f765f",
   "metadata": {},
   "source": [
    "## Working with CYTools\n",
    "\n",
    "Let us briefly illustrate a way to work with [CYTools](https://cytools.liammcallistergroup.com/docs/documentation/). We obtain the CY from the polytope points ```PPOINTS```together with the corresponding simplices ```SIMPS``` stored at position ```T``` of the triangulation inside the list of all FRSTs. Then, the CY is constructed as follows:"
   ]
  },
  {
   "cell_type": "code",
   "execution_count": 40,
   "id": "4065d95f-7130-4504-8ad7-acdbdda2af99",
   "metadata": {},
   "outputs": [
    {
     "data": {
      "text/plain": [
       "A Calabi-Yau 3-fold hypersurface with h11=2 and h21=272 in a 4-dimensional toric variety"
      ]
     },
     "execution_count": 40,
     "metadata": {},
     "output_type": "execute_result"
    }
   ],
   "source": [
    "points=ptr[\"PPOINTS\"]\n",
    "simplices=ptr[\"SIMPS\"][T]\n",
    "p=Polytope(points)\n",
    "t=p.triangulate(simplices=simplices)\n",
    "X=t.get_cy()\n",
    "X"
   ]
  },
  {
   "cell_type": "markdown",
   "id": "89ae648f-9c95-4d12-af5d-591ab07d6a02",
   "metadata": {},
   "source": [
    "We can then compute additional data that is currently not provided in the database directly such as information about the Kähler cone:"
   ]
  },
  {
   "cell_type": "code",
   "execution_count": 41,
   "id": "6e67b9cd-be75-4d14-985c-80c9bd9ddbbb",
   "metadata": {},
   "outputs": [
    {
     "data": {
      "text/plain": [
       "A rational polyhedral cone in RR^2 defined by 3 hyperplanes normals"
      ]
     },
     "execution_count": 41,
     "metadata": {},
     "output_type": "execute_result"
    }
   ],
   "source": [
    "TKC=X.toric_kahler_cone()\n",
    "TKC"
   ]
  },
  {
   "cell_type": "markdown",
   "id": "c1516cc9-8660-446c-b343-4f3baf2c9b2c",
   "metadata": {},
   "source": [
    "# Read statistics at each value of $h^{1,1}$\n",
    "\n",
    "Each of the folders for the different values of $h^{1,1}$ contains a file with the number of favourable polytopes, FRSTs, involutions and types of models. Below, we can see the results for all values of $h^{1,1}$ after choosing the complete (```random_data=0```) or random (```random_data=1```) data:"
   ]
  },
  {
   "cell_type": "code",
   "execution_count": 110,
   "id": "e67d94b6-85dd-4e66-b5c2-2e873065c50d",
   "metadata": {},
   "outputs": [
    {
     "data": {
      "text/html": [
       "<div>\n",
       "<style scoped>\n",
       "    .dataframe tbody tr th:only-of-type {\n",
       "        vertical-align: middle;\n",
       "    }\n",
       "\n",
       "    .dataframe tbody tr th {\n",
       "        vertical-align: top;\n",
       "    }\n",
       "\n",
       "    .dataframe thead th {\n",
       "        text-align: right;\n",
       "    }\n",
       "</style>\n",
       "<table border=\"1\" class=\"dataframe\">\n",
       "  <thead>\n",
       "    <tr style=\"text-align: right;\">\n",
       "      <th></th>\n",
       "      <th>h11</th>\n",
       "      <th>#Fav. Polytopes</th>\n",
       "      <th>#FRSTs</th>\n",
       "      <th>#Involutions</th>\n",
       "      <th>#Singular Involutions</th>\n",
       "      <th>#Non-singular Involutions</th>\n",
       "      <th>#Models coin. O3s</th>\n",
       "      <th>#Models only O7s</th>\n",
       "    </tr>\n",
       "  </thead>\n",
       "  <tbody>\n",
       "    <tr>\n",
       "      <th>0</th>\n",
       "      <td>2</td>\n",
       "      <td>36</td>\n",
       "      <td>48</td>\n",
       "      <td>184</td>\n",
       "      <td>45</td>\n",
       "      <td>139</td>\n",
       "      <td>71</td>\n",
       "      <td>51</td>\n",
       "    </tr>\n",
       "    <tr>\n",
       "      <th>1</th>\n",
       "      <td>3</td>\n",
       "      <td>243</td>\n",
       "      <td>525</td>\n",
       "      <td>3035</td>\n",
       "      <td>1044</td>\n",
       "      <td>1991</td>\n",
       "      <td>1091</td>\n",
       "      <td>619</td>\n",
       "    </tr>\n",
       "    <tr>\n",
       "      <th>2</th>\n",
       "      <td>4</td>\n",
       "      <td>1185</td>\n",
       "      <td>5330</td>\n",
       "      <td>39653</td>\n",
       "      <td>16343</td>\n",
       "      <td>23310</td>\n",
       "      <td>15754</td>\n",
       "      <td>4046</td>\n",
       "    </tr>\n",
       "    <tr>\n",
       "      <th>3</th>\n",
       "      <td>5</td>\n",
       "      <td>4897</td>\n",
       "      <td>56714</td>\n",
       "      <td>495854</td>\n",
       "      <td>257775</td>\n",
       "      <td>238079</td>\n",
       "      <td>170706</td>\n",
       "      <td>26694</td>\n",
       "    </tr>\n",
       "    <tr>\n",
       "      <th>4</th>\n",
       "      <td>6</td>\n",
       "      <td>16608</td>\n",
       "      <td>584281</td>\n",
       "      <td>5777640</td>\n",
       "      <td>3627291</td>\n",
       "      <td>2150349</td>\n",
       "      <td>1544689</td>\n",
       "      <td>185425</td>\n",
       "    </tr>\n",
       "    <tr>\n",
       "      <th>5</th>\n",
       "      <td>7</td>\n",
       "      <td>48221</td>\n",
       "      <td>5990333</td>\n",
       "      <td>65625277</td>\n",
       "      <td>47750155</td>\n",
       "      <td>17875122</td>\n",
       "      <td>12596558</td>\n",
       "      <td>1336960</td>\n",
       "    </tr>\n",
       "  </tbody>\n",
       "</table>\n",
       "</div>"
      ],
      "text/plain": [
       "   h11  #Fav. Polytopes   #FRSTs  #Involutions  #Singular Involutions  \\\n",
       "0    2               36       48           184                     45   \n",
       "1    3              243      525          3035                   1044   \n",
       "2    4             1185     5330         39653                  16343   \n",
       "3    5             4897    56714        495854                 257775   \n",
       "4    6            16608   584281       5777640                3627291   \n",
       "5    7            48221  5990333      65625277               47750155   \n",
       "\n",
       "   #Non-singular Involutions  #Models coin. O3s  #Models only O7s  \n",
       "0                        139                 71                51  \n",
       "1                       1991               1091               619  \n",
       "2                      23310              15754              4046  \n",
       "3                     238079             170706             26694  \n",
       "4                    2150349            1544689            185425  \n",
       "5                   17875122           12596558           1336960  "
      ]
     },
     "execution_count": 110,
     "metadata": {},
     "output_type": "execute_result"
    }
   ],
   "source": [
    "random_data=0\n",
    "\n",
    "if random_data==0:\n",
    "    h11_list=[2,3,4,5,6,7]\n",
    "else:\n",
    "    h11_list=[7,8,9,10,11,12]\n",
    "\n",
    "stat_final={}\n",
    "\n",
    "for h11 in h11_list:\n",
    "\n",
    "    file=\"STAT_*\"\n",
    "\n",
    "    home_dir=os.getcwd()\n",
    "\n",
    "    if random_data==0:\n",
    "        filename = home_dir+\"/Data/Complete/h11_\"+str(h11)+\"/\"+file+\".p\"\n",
    "    else:\n",
    "        filename = home_dir+\"/Data/Random/h11_\"+str(h11)+\"/\"+file+\".p\"\n",
    "\n",
    "\n",
    "    filenames =glob.glob(filename)\n",
    "    \n",
    "    if len(filenames)>0:\n",
    "        filename=filenames[0]\n",
    "    else:\n",
    "        print(\"No filename found!\")\n",
    "        sys.exit()\n",
    "\n",
    "\n",
    "    stat=load_zipped_pickle(filename)\n",
    "    \n",
    "    stat_final=mergeDict(stat_final, stat)\n",
    "    \n",
    "    #print(stat_final)\n",
    "\n",
    "df_stat=pd.DataFrame(stat_final)\n",
    "df_stat"
   ]
  },
  {
   "cell_type": "markdown",
   "id": "8ccb0822-c28a-48e2-a040-f5c162ef6d87",
   "metadata": {},
   "source": [
    "These are the numbers for each value of $h^{1,1}$ in the folder ```Complete``` reproducing the values in Table 2 of our paper (or Table 3 for the random data).\n",
    "\n",
    "The sum over each of the columns gives the following:"
   ]
  },
  {
   "cell_type": "code",
   "execution_count": 111,
   "id": "341d8ace-4358-497c-a7a0-419188f15808",
   "metadata": {},
   "outputs": [
    {
     "data": {
      "text/plain": [
       "h11                                27\n",
       "#Fav. Polytopes                 71190\n",
       "#FRSTs                        6637231\n",
       "#Involutions                 71941643\n",
       "#Singular Involutions        51652653\n",
       "#Non-singular Involutions    20288990\n",
       "#Models coin. O3s            14328869\n",
       "#Models only O7s              1553795\n",
       "dtype: int64"
      ]
     },
     "execution_count": 111,
     "metadata": {},
     "output_type": "execute_result"
    }
   ],
   "source": [
    "df_stat.sum(axis = 0, skipna = True)"
   ]
  },
  {
   "cell_type": "markdown",
   "id": "4e12e926-7a7d-4b72-9dd4-b73b1308bc3c",
   "metadata": {},
   "source": [
    "# Reproducing figure \n",
    "\n",
    "Let us give an example of how to work with the data by reproducing figure 4 in the paper. To this end, we read the data for all divisor topologies and the corresponding D3-charge obtained from an O7-plane together with either an SO(8) stack or a fully recombined Whitney brane:"
   ]
  },
  {
   "cell_type": "code",
   "execution_count": null,
   "id": "ab92a57a-f686-4187-a89e-902e95374033",
   "metadata": {},
   "outputs": [],
   "source": [
    "h11_max=5\n",
    "\n",
    "h11_list=[2,3,4,5,6]\n",
    "\n",
    "numfiles_list=[36,243,1185,4897,16608]\n",
    "\n",
    "\n",
    "random_data=0\n",
    "\n",
    "h11_X=[]\n",
    "h12_X=[]\n",
    "h00D_list=[]\n",
    "h01D_list=[]\n",
    "h02D_list=[]\n",
    "h11D_list=[]\n",
    "chid_list=[]\n",
    "chi8d_list=[]\n",
    "\n",
    "\n",
    "for I0 in range(len(h11_list)):\n",
    "    \n",
    "    \n",
    "    \n",
    "    h11=h11_list[I0]\n",
    "    num_divisors=h11+4\n",
    "    \n",
    "    if h11>h11_max:\n",
    "        break\n",
    "\n",
    "    print(\"h11: \",h11)\n",
    "    I4Max=numfiles_list[I0]+1\n",
    "    \n",
    "    \n",
    "    for I4 in tqdm(range(1,I4Max)):\n",
    "        \n",
    "        file=\"POLY_\"+str(I4)+\"_*\"\n",
    "        \n",
    "        filename = home_dir+\"/Data/Complete/h11_\"+str(h11)+\"/\"+file+\".p\"\n",
    "        \n",
    "        filename =glob.glob(filename)\n",
    "        if len(filename)>0:\n",
    "            filename=filename[0]\n",
    "        else:\n",
    "            print(\"DID NOT FIND FILE WITH ID: \",I4)\n",
    "            sys.exit()\n",
    "        \n",
    "        ptr=load_zipped_pickle(filename)\n",
    "\n",
    "        \n",
    "        h12=ptr['h12']\n",
    "        \n",
    "        div_tops=np.array(ptr['DIVS'])\n",
    "        len_divt=len(div_tops)\n",
    "        intnums_list=ptr['INTNUMS']\n",
    "        sec_chern_list=ptr['SCHERN']\n",
    "        \n",
    "        for I2 in range(len_divt):\n",
    "            elem=div_tops[I2].T[1]\n",
    "            int_nums=intnums_list[I2]\n",
    "            sec_chern=sec_chern_list[I2]\n",
    "            \n",
    "            \n",
    "            chid_database=div_tops[I2].T[2] #Get \\chi(D) from the data\n",
    "            chi4d_database=div_tops[I2].T[3] #Get \\chi(4D) from the data\n",
    "            \n",
    "            for i1 in range(num_divisors):\n",
    "                el=elem[i1]\n",
    "                h00D=el[0]\n",
    "                h01D=el[1]\n",
    "                h02D=el[2]\n",
    "                h11D=el[3]\n",
    "                h11_X.append(h11)\n",
    "                h12_X.append(h12)\n",
    "                h00D_list.append(h00D)\n",
    "                h01D_list.append(h01D)\n",
    "                h02D_list.append(h02D)\n",
    "                h11D_list.append(h11D)\n",
    "                \n",
    "                divind=i1+1\n",
    "                if (divind,divind,divind) in int_nums.keys():\n",
    "                    trip_int_num=int_nums[divind,divind,divind] #Get triple intersection number for divisor with index 'divind'\n",
    "                else:\n",
    "                    trip_int_num=0\n",
    "                \n",
    "                chid=chid_database[i1]\n",
    "                chid_list.append(chid)\n",
    "                \n",
    "                sec_chern_num1=sec_chern[i1]\n",
    " \n",
    "                chi8d=chi4d_database[i1]+108*trip_int_num #Compute \\chi(8*D) for the fully recombined withney brane\n",
    "                \n",
    "                chi8d_list.append(chi8d)\n",
    "                \n",
    "                \n",
    "                \n",
    "                \n",
    "        \n",
    "    \n",
    "d_tot={}\n",
    "d_tot[\"h11X\"]=h11_X\n",
    "d_tot[\"h12X\"]=h12_X\n",
    "d_tot[\"h00\"]=h00D_list\n",
    "d_tot[\"h01\"]=h01D_list\n",
    "d_tot[\"h02\"]=h02D_list\n",
    "d_tot[\"h11\"]=h11D_list\n",
    "d_tot[\"chi\"]=chid_list\n",
    "d_tot[\"chiWD7\"]=chi8d_list\n",
    "\n",
    "\n",
    "df=pd.DataFrame(d_tot)\n",
    "df[\"D3SO8\"]=-df[\"chi\"]*8/24\n",
    "df[\"D3W\"]=-df[\"chiWD7\"]*2/24\n",
    "\n",
    "df_WD=df.copy()\n",
    "print(\"Total length: \",len(df_WD))\n",
    "df_WD=df_WD[df_WD[\"h02\"]>1]\n",
    "df_WD=df_WD[df_WD[\"h01\"]==0]\n",
    "print(\"Length WD7: \",len(df_WD))\n",
    "df_WD=df_WD.iloc[::-1]\n",
    "\n",
    "df_WD_nd=df_WD.copy()\n",
    "df_WD_nd=df_WD_nd.drop_duplicates()\n",
    "\n"
   ]
  },
  {
   "cell_type": "markdown",
   "id": "0ed5da5a-afd8-433f-8f7d-74168940404e",
   "metadata": {},
   "source": [
    "## Plots for SO(8) stacks"
   ]
  },
  {
   "cell_type": "code",
   "execution_count": 29,
   "id": "15cb264b-5559-4d33-8fc9-87425e9cee58",
   "metadata": {},
   "outputs": [
    {
     "data": {
      "image/png": "[encoded data removed]",
      "text/plain": [
       "<Figure size 1000x600 with 1 Axes>"
      ]
     },
     "metadata": {},
     "output_type": "display_data"
    }
   ],
   "source": [
    "plt.figure(figsize=(5,3))\n",
    "\n",
    "ax=sn.histplot(data=df_WD,x=\"D3SO8\",hue=\"h11X\",palette=cmap,legend=True,binwidth=5);\n",
    "\n",
    "ax.set(xlabel='$Q_{SO(8)}$', ylabel='number')\n",
    "\n",
    "legend = ax.get_legend()\n",
    "handles = legend.legendHandles\n",
    "legend.remove()\n",
    "ax.legend(handles, np.unique(df[\"h11X\"]), title='$h^{1,1}(X)$')\n",
    "\n",
    "plt.yscale('log')\n",
    "plt.show()"
   ]
  },
  {
   "cell_type": "markdown",
   "id": "83f6774f-54fb-4404-9a57-a76ed6aba9f2",
   "metadata": {},
   "source": [
    "## Plots for fully recomined Whitney brane"
   ]
  },
  {
   "cell_type": "code",
   "execution_count": 30,
   "id": "26c64771-124a-4233-96a4-9d56e23c3751",
   "metadata": {},
   "outputs": [
    {
     "data": {
      "image/png": "[encoded data removed]",
      "text/plain": [
       "<Figure size 1000x600 with 1 Axes>"
      ]
     },
     "metadata": {},
     "output_type": "display_data"
    }
   ],
   "source": [
    "plt.figure(figsize=(5,3))\n",
    "\n",
    "ax=sn.histplot(data=df_WD,x=\"D3W\",hue=\"h11X\",palette=cmap,legend=True,binwidth=50);\n",
    "\n",
    "ax.set(xlabel='$Q_{WD7}$', ylabel='number')\n",
    "\n",
    "legend = ax.get_legend()\n",
    "handles = legend.legendHandles\n",
    "legend.remove()\n",
    "ax.legend(handles, np.unique(df[\"h11X\"]), title='$h^{1,1}(X)$')\n",
    "\n",
    "plt.yscale('log')\n",
    "plt.show()"
   ]
  }
 ],
 "metadata": {
  "kernelspec": {
   "display_name": "Python 3 (ipykernel)",
   "language": "python",
   "name": "python3"
  },
  "language_info": {
   "codemirror_mode": {
    "name": "ipython",
    "version": 3
   },
   "file_extension": ".py",
   "mimetype": "text/x-python",
   "name": "python",
   "nbconvert_exporter": "python",
   "pygments_lexer": "ipython3",
   "version": "3.9.2"
  }
 },
 "nbformat": 4,
 "nbformat_minor": 5
}
