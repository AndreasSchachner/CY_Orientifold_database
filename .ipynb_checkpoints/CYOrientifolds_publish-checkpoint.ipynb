{
 "cells": [
  {
   "cell_type": "markdown",
   "id": "272f4829-912f-4c93-8389-79a4d561887b",
   "metadata": {},
   "source": [
    "# CY Orientifolds\n",
    "\n",
    "This notebook provides instructions on how to read the data provided in our GitHub repository for Calabi-Yau (CY) orientifolds. \n",
    "\n",
    "Author: Andreas Schachner\n",
    "\n",
    "E-Mail: andreas.schachner@gmx.net\n"
   ]
  },
  {
   "cell_type": "markdown",
   "id": "82a50604-dda9-4aa4-a24c-c2adfc043fbd",
   "metadata": {},
   "source": [
    "## Packages"
   ]
  },
  {
   "cell_type": "code",
   "execution_count": 2,
   "id": "716bfabc-d8d0-460d-b05e-73471c54f3b2",
   "metadata": {},
   "outputs": [],
   "source": [
    "import numpy as np\n",
    "import matplotlib.pyplot as plt\n",
    "import os\n",
    "from tqdm import tqdm\n",
    "import warnings\n",
    "warnings.filterwarnings(\"ignore\")\n",
    "import seaborn as sn\n",
    "sn.set(rc={\"figure.dpi\":200, 'savefig.dpi':200})\n",
    "sn.set_context('notebook')\n",
    "sn.set_style(\"ticks\")\n",
    "import sys\n",
    "import glob\n",
    "\n",
    "\n",
    "import pickle\n",
    "import gzip\n",
    "        \n",
    "def load_zipped_pickle(filen):\n",
    "    \n",
    "    with gzip.open(filen, 'rb') as f:\n",
    "        loaded_object = pickle.load(f)\n",
    "        \n",
    "    f.close()\n",
    "        \n",
    "    return loaded_object\n"
   ]
  },
  {
   "cell_type": "markdown",
   "id": "8aa244fa-2487-4539-933f-c66048ea40c0",
   "metadata": {},
   "source": [
    "# Read data\n",
    "\n",
    "To read the data, we pick a value for $h^{1,1}$ and choose the type of data:\n",
    "\n",
    "* **Complete**: Contains complete data for *all* FRSTs of *all* favourable polytopes at $2\\leq h^{1,1}\\leq 7$\n",
    "* **Random**: Contains data obtained from random sampling at $7\\leq h^{1,1}\\leq 12$\n",
    "\n",
    "Below, we work with the **Complete** data by setting **random_data=0** below."
   ]
  },
  {
   "cell_type": "code",
   "execution_count": 21,
   "id": "5f367942-02f4-43ad-b74f-1c8ff4ee21ac",
   "metadata": {},
   "outputs": [
    {
     "data": {
      "text/plain": [
       "['/home/CY_Orientifold_database/Data/Complete/h11_2/POLY_10_h11_2_h12_86.p',\n",
       " '/home/CY_Orientifold_database/Data/Complete/h11_2/POLY_11_h11_2_h12_86.p',\n",
       " '/home/CY_Orientifold_database/Data/Complete/h11_2/POLY_12_h11_2_h12_86.p',\n",
       " '/home/CY_Orientifold_database/Data/Complete/h11_2/POLY_13_h11_2_h12_86.p',\n",
       " '/home/CY_Orientifold_database/Data/Complete/h11_2/POLY_14_h11_2_h12_86.p']"
      ]
     },
     "execution_count": 21,
     "metadata": {},
     "output_type": "execute_result"
    }
   ],
   "source": [
    "h11=2\n",
    "\n",
    "random_data=0\n",
    "\n",
    "file=\"POLY_*\"\n",
    "\n",
    "home_dir=os.getcwd()\n",
    "\n",
    "if random_data==0:\n",
    "    filename = home_dir+\"/Data/Complete/h11_\"+str(h11)+\"/\"+file+\".p\"\n",
    "else:\n",
    "    filename = home_dir+\"/Data/Random/h11_\"+str(h11)+\"/\"+file+\".p\"\n",
    "            \n",
    "            \n",
    "filenames =glob.glob(filename)\n",
    "filenames[:5]"
   ]
  },
  {
   "cell_type": "markdown",
   "id": "6624300b-e0a6-41ef-9c48-45ece4048624",
   "metadata": {},
   "source": [
    "The list **filenames** contains all filenames for polytopes with a given h11. If we want, we can further limit ourselves to polytopes with a specified h12:"
   ]
  },
  {
   "cell_type": "code",
   "execution_count": 22,
   "id": "be804448-10d0-43c9-80ff-ea7dc3455f6f",
   "metadata": {},
   "outputs": [
    {
     "data": {
      "text/plain": [
       "['/home/CY_Orientifold_database/Data/Complete/h11_2/POLY_36_h11_2_h12_272.p']"
      ]
     },
     "execution_count": 22,
     "metadata": {},
     "output_type": "execute_result"
    }
   ],
   "source": [
    "h12=272\n",
    "filenames=[file for file in filenames if \"h12_\"+str(h12) in file]\n",
    "filenames"
   ]
  },
  {
   "cell_type": "markdown",
   "id": "792812b0-dda9-48d0-9354-53ae8068f93c",
   "metadata": {},
   "source": [
    "We picked $h^{1,2}=272$ which corresponds to the degree 18 hypersurface in $\\mathbb{CP}[1,1,1,6,9]$ as discussed in Appendix B.1 in the paper. This leaves us with one filename which we now read in using the function **load_zipped_pickle**:"
   ]
  },
  {
   "cell_type": "code",
   "execution_count": 23,
   "id": "165c7728-a084-4fb3-8aa6-3ed182204278",
   "metadata": {},
   "outputs": [],
   "source": [
    "if len(filenames)>0:\n",
    "    filename=filenames[0]\n",
    "else:\n",
    "    print(\"No filename found!\")\n",
    "    sys.exit()\n",
    "\n",
    "    \n",
    "ptr=load_zipped_pickle(filename)"
   ]
  },
  {
   "cell_type": "markdown",
   "id": "20bc3de8-228a-43f1-a50b-d42363d015cc",
   "metadata": {},
   "source": [
    "We loaded the file into a dictionary **ptr** with the following keys:"
   ]
  },
  {
   "cell_type": "code",
   "execution_count": 24,
   "id": "199bab03-b4d5-418f-bd11-86063daa295f",
   "metadata": {},
   "outputs": [
    {
     "data": {
      "text/plain": [
       "dict_keys(['h11', 'h12', 'chi', 'PPOINTS', 'WEIGHTS', 'FIBRE', 'SIMPS', 'SRI', 'INTNUMS', 'SCHERN', 'DIVS', 'DPEZ', 'OFOLDS', 'STAT'])"
      ]
     },
     "execution_count": 24,
     "metadata": {},
     "output_type": "execute_result"
    }
   ],
   "source": [
    "ptr.keys()"
   ]
  },
  {
   "cell_type": "markdown",
   "id": "dc2d1cfe-dd65-4dd5-8fbf-38e2def10d02",
   "metadata": {},
   "source": [
    "The keys provide access to the following data:\n",
    "    \n",
    "| Key | Quantity | Type | Length |\n",
    "| --- | --- | --- | --- |\n",
    "| **'h11'** | $h^{1,1}(X_3)$ of the corresponding CY $X_3$ | scalar | 0 |\n",
    "| **'h12'** | $h^{1,2}(X_3)$ of the corresponding CY $X_3$ | scalar | 0 |\n",
    "| **'chi'** | $\\chi(X_3)$ of the corresponding CY $X_3$ | scalar | 0 |\n",
    "| **'PPOINTS'** | $N$ lattice points | array | h11+4 |\n",
    "| **'WEIGHTS'** | GLSM weight matrix | array | h11+4 |\n",
    "| **'FIBRE'** | Fiberation structre of the polytope | array | - |\n",
    "| **'SIMPS'** | Simplices of all FRSTs | array | #FRSTs |\n",
    "| **'SRI'** | SR-ideal for all FRSTs | array | #FRSTs |\n",
    "| **'INTNUMS'** | Intersection numbers for all FRSTs | array | #FRSTs |\n",
    "| **'SCHERN'** | 2nd Chern class for all FRSTs | array | #FRSTs |\n",
    "| **'DIVS'** | Topological numbers of divisors for all FRSTs | array | #FRSTs |\n",
    "| **'DPEZ'** | (Diagonal) del Pezzo divisors for all FRSTs | array | #FRSTs |\n",
    "| **'OFOLDS'** | Orientifolds for all FRSTs | array | #FRSTs |\n",
    "| **'STAT'** | Statistic for the polytope | dictionary | - |\n",
    "    "
   ]
  },
  {
   "cell_type": "markdown",
   "id": "27815a43-918d-4a4a-91ba-f5e18a2729ce",
   "metadata": {},
   "source": [
    "The triangulation dependent arrays have length of the number of triangulations.\n",
    "\n",
    "The intersection numbers include the anti-canonical divisor at index 0.\n",
    "\n",
    "The additional array of del Pezzo divisors does not use the information about Hodge numbers. Indeed, in some cases, a divisor might look topologically like a del Pezzo, but there are actually obstructions related to the precise embedding into the CY which can e.g. be seen on the level of intersection numbers. In the list of del Pezzo divisors, we check the necessary conditions in terms of the intersection structures stated in our paper, namely for a del Pezzo $dP_n$ divisor $D_s$:\n",
    "\n",
    "$\\int_{X_3}\\, D_s^3=\\kappa_{sss}=9-n>0\\qquad \\int_{X_3}\\, D_s^2 D_i\\leq 0\\quad \\forall i\\neq s$\n",
    "\n",
    "Furthermore, we check the diagonality condition\n",
    "\n",
    "$\\kappa_{sss}\\kappa_{sij}=\\kappa_{ssi}\\kappa_{ssj}\\quad \\forall i,j$\n",
    "\n",
    "which is usually required either for applications to the LVS or models with branes at singularities. The array of divisors $D_{s_i}$ of del Pezzo type dP$_{n_i}$ associated with the key **'DPEZ'** in structured as:\n",
    "\n",
    "$\\text{ptr[\"DPEZ\"]}=[[s_1, n_1,d_1],[s_2, n_2,d_2],\\ldots ]$\n",
    "\n",
    "Here, $d_i=1$ means that the divisor is diagonal, and $d_i=0$ that it is non-diagonal. We give one concrete example further below.\n"
   ]
  },
  {
   "cell_type": "code",
   "execution_count": 25,
   "id": "aa6a0cd4-9ef7-415f-9758-7f032e7d27db",
   "metadata": {},
   "outputs": [],
   "source": [
    "Orientifolds_tr=ptr[\"OFOLDS\"]\n",
    "Divisors_tr=ptr[\"DIVS\"]"
   ]
  },
  {
   "cell_type": "markdown",
   "id": "686c3111-c920-463a-bb8f-0b35d8e178e2",
   "metadata": {},
   "source": [
    "Let us specify a triangulation **T**:"
   ]
  },
  {
   "cell_type": "code",
   "execution_count": 26,
   "id": "6ca496bd-632a-4fa1-8d0a-8dd05fd65552",
   "metadata": {},
   "outputs": [],
   "source": [
    "T=0\n",
    "Orientifolds=Orientifolds_tr[T]\n",
    "Divisors=Divisors_tr[T]"
   ]
  },
  {
   "cell_type": "markdown",
   "id": "1062f60f-f581-45c6-8fdf-2c7e1b7aa1b5",
   "metadata": {},
   "source": [
    "Let us first look at the divisor data. The topological numbers read"
   ]
  },
  {
   "cell_type": "code",
   "execution_count": 27,
   "id": "bbca4e04-c8c6-41f0-8212-857a76db4b3b",
   "metadata": {},
   "outputs": [
    {
     "data": {
      "text/plain": [
       "array([[1, list([1, 0, 2, 30]), 36, 144.0, 3.0],\n",
       "       [2, list([1, 0, 2, 30]), 36, 144.0, 3.0],\n",
       "       [3, list([1, 0, 2, 30]), 36, 144.0, 3.0],\n",
       "       [4, list([1, 0, 28, 218]), 276, 5424.0, 29.0],\n",
       "       [5, list([1, 0, 65, 417]), 549, 16776.0, 66.0],\n",
       "       [6, list([1, 0, 0, 1]), 3, 552.0, 1.0]], dtype=object)"
      ]
     },
     "execution_count": 27,
     "metadata": {},
     "output_type": "execute_result"
    }
   ],
   "source": [
    "Divisors"
   ]
  },
  {
   "cell_type": "markdown",
   "id": "2b6aaf90-d230-4241-861f-134a4b35114d",
   "metadata": {},
   "source": [
    "There are **five** columns which encode the following quantities\n",
    "\n",
    "| Column | Quantity | Type | Length |\n",
    "| --- | --- | --- | --- |\n",
    "| 1 | Divisor/coordinate index $i$ for $D_i=\\lbrace z_i=0\\rbrace$ | scalar | 0 |\n",
    "| 2 | Hodge numbers $h^{p,q}(D_i)$ in the format $[h^{0,0},h^{0,1}, h^{0,2},h^{1,1}]$ | list | 4 |\n",
    "| 3 | Euler number $\\chi(D_i)$ | scalar | 0 |\n",
    "| 4 | Euler number $\\chi(4D_i)$ | scalar | 0 |\n",
    "| 5 | Arithmetic genus $\\chi_0(D_i)$ | scalar | 0 |"
   ]
  },
  {
   "cell_type": "markdown",
   "id": "c0d87b5a-815f-4d64-9005-157041466f0f",
   "metadata": {},
   "source": [
    "As an example, let us take look at the divisor $D_6$"
   ]
  },
  {
   "cell_type": "code",
   "execution_count": 28,
   "id": "e1719037-8614-4b80-b1c4-b25b18dd1a93",
   "metadata": {},
   "outputs": [
    {
     "data": {
      "text/plain": [
       "array([6, list([1, 0, 0, 1]), 3, 552.0, 1.0], dtype=object)"
      ]
     },
     "execution_count": 28,
     "metadata": {},
     "output_type": "execute_result"
    }
   ],
   "source": [
    "D=5\n",
    "D6=Divisors[D]\n",
    "D6"
   ]
  },
  {
   "cell_type": "markdown",
   "id": "b6b81890-c9c7-498e-88a0-e35ab4ccdc17",
   "metadata": {},
   "source": [
    "This divisors has the following properties: It corresponds to a dP$_0=\\mathbb{P}^2$ surface with Hodge numbers\n",
    "\n",
    "$h^{\\bullet}(D_6) =\\lbrace h^{0,0},h^{0,1}, h^{0,2},h^{1,1}\\rbrace= \\lbrace 1,0,0,1\\rbrace$\n",
    "\n",
    "The Euler number is given by\n",
    "\n",
    "$\\chi(D_6)=3$\n",
    "\n",
    "while the Euler number for the class $4\\cdot D_6$ is\n",
    "\n",
    "$\\chi(4\\cdot D_6)=552$ .\n",
    "\n",
    "Lastly, the arithmetic genus is determined as\n",
    "\n",
    "$\\chi_0(D_6)=1$ .\n",
    "\n",
    "\n",
    "We can check whether it is a proper del Pezzo surface dP$_0$ inside the CY and whether it satisfies the diagonality condition by looking at **'DPEZ'**:"
   ]
  },
  {
   "cell_type": "code",
   "execution_count": 30,
   "id": "2f7ac883-dceb-4aaf-a8a9-e8252cb2697a",
   "metadata": {},
   "outputs": [
    {
     "data": {
      "text/plain": [
       "array([[6, 0, 1]])"
      ]
     },
     "execution_count": 30,
     "metadata": {},
     "output_type": "execute_result"
    }
   ],
   "source": [
    "ptr[\"DPEZ\"][T]"
   ]
  },
  {
   "cell_type": "markdown",
   "id": "85836359-9b58-4b22-8c1a-9a5af0103370",
   "metadata": {},
   "source": [
    "We see that $D_6$ is a proper dP$_0$ and is diagonal. The latter is of course trivial for a dP$_0=\\mathbb{P}^2$, but serves here as a sanity check!\n",
    "\n",
    "In **Orientifold** we collect the number of inequivalent orientifolds (at least concerning the weight system). The orientifold data for one such configuration is encoded in another dictionary with the following keys:"
   ]
  },
  {
   "cell_type": "code",
   "execution_count": 10,
   "id": "1abcb653-2f19-4063-8211-92aff4857ed4",
   "metadata": {},
   "outputs": [
    {
     "data": {
      "text/plain": [
       "dict_keys(['OIDA', 'OIDP', 'OIDTR', 'COORD', 'SING', 'CYEQ', 'OPC', 'OP', 'D3OP', 'D3SO8', 'D3W', 'H12PM'])"
      ]
     },
     "execution_count": 10,
     "metadata": {},
     "output_type": "execute_result"
    }
   ],
   "source": [
    "O=1\n",
    "Orientifold=Orientifolds[O]\n",
    "Orientifold.keys()"
   ]
  },
  {
   "cell_type": "markdown",
   "id": "d2deb07b-e0fb-4894-b130-dd7336f7c168",
   "metadata": {},
   "source": [
    "Here, the keys specify the folloing data\n",
    "\n",
    "| Key | Quantity | Type | Length |\n",
    "| --- | --- | --- | --- |\n",
    "| **'OIDA'** | Orientifold ID total | scalar | 0 |\n",
    "| **'OIDP'** | Orientifold ID polytope | scalar | 0 |\n",
    "| **'OIDTR'** | Orientifold ID triangulation | scalar | 0 |\n",
    "| **'COORD'** | Equivalent coordinates for reflection | list | - |\n",
    "| **'SING'** | Singular | scalar | 0 |\n",
    "| **'CYEQ'** | Invariant CY equation | array | - |\n",
    "| **'OPC'** | Count of fixed point loci | list | 6 |\n",
    "| **'OP'** | O$p_i$-planes $[[p_1,\\sharp \\,\\text{planes},[z_k,z_l,\\ldots]],\\ldots]$ for fixed point loci $z_k=z_l=\\ldots=0$ | array | -- |\n",
    "| **'D3OP'** | D3-charge contribution from O$p$-planes $[Q_{O3},Q_{O7},Q_{O3}+Q_{O7}]$ | list | 3 |\n",
    "| **'D3SO8'** | Total D3-charge for SO(8) stacks | scalar | 0 |\n",
    "| **'D3W'** | Total D3-charge for Whitney branes | scalar | 0 |\n",
    "| **'H12PM'** | Hodge numbers $h^{1,2}_{\\pm}$ | list | 2 |"
   ]
  },
  {
   "cell_type": "markdown",
   "id": "aeb46548-2dde-48fb-8ba8-6fda50d9a5a1",
   "metadata": {},
   "source": [
    "Let us look at the example used above:"
   ]
  },
  {
   "cell_type": "code",
   "execution_count": 11,
   "id": "070b6220-e771-4256-94d0-772091e4b83e",
   "metadata": {},
   "outputs": [
    {
     "data": {
      "text/plain": [
       "array([[7, 1, array([1])],\n",
       "       [3, 3, array([2, 3, 5])],\n",
       "       [3, 1, array([2, 3, 6])]], dtype=object)"
      ]
     },
     "execution_count": 11,
     "metadata": {},
     "output_type": "execute_result"
    }
   ],
   "source": [
    "Orientifold[\"OP\"]"
   ]
  },
  {
   "cell_type": "markdown",
   "id": "ba85b57b-c091-4414-b415-c3c7845d1550",
   "metadata": {},
   "source": [
    "This implies that we have:\n",
    "\n",
    "* An O7-plane on $D_1$\n",
    "* An O3-plane wrapping the locus $z_2=z_3=z_6=0$\n",
    "* Three O3-planes wrapping the locus $z_2=z_3=z_5=0$\n",
    "\n"
   ]
  },
  {
   "cell_type": "code",
   "execution_count": null,
   "id": "50490aaf-8035-497c-b4c0-ba570c8264cd",
   "metadata": {},
   "outputs": [],
   "source": []
  }
 ],
 "metadata": {
  "kernelspec": {
   "display_name": "Python 3 (ipykernel)",
   "language": "python",
   "name": "python3"
  },
  "language_info": {
   "codemirror_mode": {
    "name": "ipython",
    "version": 3
   },
   "file_extension": ".py",
   "mimetype": "text/x-python",
   "name": "python",
   "nbconvert_exporter": "python",
   "pygments_lexer": "ipython3",
   "version": "3.7.3"
  }
 },
 "nbformat": 4,
 "nbformat_minor": 5
}
